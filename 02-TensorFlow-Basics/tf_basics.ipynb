{
  "cells": [
    {
      "cell_type": "code",
      "execution_count": 3,
      "metadata": {
        "collapsed": true,
        "pycharm": {
          "is_executing": false
        }
      },
      "outputs": [],
      "source": "import tensorflow as tf"
    },
    {
      "cell_type": "code",
      "execution_count": 5,
      "outputs": [
        {
          "name": "stdout",
          "text": [
            "1.3.0\n"
          ],
          "output_type": "stream"
        }
      ],
      "source": "print(tf.__version__)",
      "metadata": {
        "pycharm": {
          "metadata": false,
          "name": "#%%\n",
          "is_executing": false
        }
      }
    },
    {
      "cell_type": "code",
      "execution_count": null,
      "outputs": [],
      "source": "hello \u003d tf.constant(\u0027Hello \u0027)\nworld \u003d tf.constant(\u0027World\u0027)",
      "metadata": {
        "pycharm": {
          "metadata": false,
          "name": "#%%\n",
          "is_executing": true
        }
      }
    },
    {
      "cell_type": "code",
      "execution_count": 7,
      "outputs": [],
      "source": "with tf.Session() as sess:\n    res \u003d sess.run(hello + world)",
      "metadata": {
        "pycharm": {
          "metadata": false,
          "name": "#%%\n",
          "is_executing": false
        }
      }
    },
    {
      "cell_type": "code",
      "execution_count": 8,
      "outputs": [
        {
          "name": "stdout",
          "text": [
            "b\u0027Hello World\u0027\n"
          ],
          "output_type": "stream"
        }
      ],
      "source": "print(res)",
      "metadata": {
        "pycharm": {
          "metadata": false,
          "name": "#%%\n",
          "is_executing": false
        }
      }
    },
    {
      "cell_type": "code",
      "execution_count": 9,
      "outputs": [],
      "source": "a \u003d tf.constant(10)\nb \u003d tf.constant(20)",
      "metadata": {
        "pycharm": {
          "metadata": false,
          "name": "#%%\n",
          "is_executing": false
        }
      }
    },
    {
      "cell_type": "code",
      "execution_count": 10,
      "outputs": [],
      "source": "with tf.Session() as sess:\n    res \u003d sess.run(a+b)",
      "metadata": {
        "pycharm": {
          "metadata": false,
          "name": "#%%\n",
          "is_executing": false
        }
      }
    },
    {
      "cell_type": "code",
      "execution_count": 11,
      "outputs": [
        {
          "data": {
            "text/plain": "30"
          },
          "metadata": {},
          "output_type": "execute_result",
          "execution_count": 11
        }
      ],
      "source": "res",
      "metadata": {
        "pycharm": {
          "metadata": false,
          "name": "#%%\n",
          "is_executing": false
        }
      }
    },
    {
      "cell_type": "code",
      "execution_count": 12,
      "outputs": [],
      "source": "const \u003d tf.constant(10)",
      "metadata": {
        "pycharm": {
          "metadata": false,
          "name": "#%%\n",
          "is_executing": false
        }
      }
    },
    {
      "cell_type": "code",
      "execution_count": 13,
      "outputs": [],
      "source": "fill \u003d tf.fill((4,4), 10)",
      "metadata": {
        "pycharm": {
          "metadata": false,
          "name": "#%%\n",
          "is_executing": false
        }
      }
    },
    {
      "cell_type": "code",
      "execution_count": 14,
      "outputs": [],
      "source": "my_zeros \u003d tf.zeros((4,4))",
      "metadata": {
        "pycharm": {
          "metadata": false,
          "name": "#%%\n",
          "is_executing": false
        }
      }
    },
    {
      "cell_type": "code",
      "execution_count": 15,
      "outputs": [],
      "source": "my_ones \u003d tf.ones((4,4))",
      "metadata": {
        "pycharm": {
          "metadata": false,
          "name": "#%%\n",
          "is_executing": false
        }
      }
    },
    {
      "cell_type": "code",
      "execution_count": 16,
      "outputs": [],
      "source": "my_randn \u003d tf.random_normal((4,4), mean\u003d0, stddev\u003d1.0)",
      "metadata": {
        "pycharm": {
          "metadata": false,
          "name": "#%%\n",
          "is_executing": false
        }
      }
    },
    {
      "cell_type": "code",
      "execution_count": 17,
      "outputs": [],
      "source": "my_randu \u003d tf.random_uniform((4,4), minval\u003d0, maxval\u003d1)",
      "metadata": {
        "pycharm": {
          "metadata": false,
          "name": "#%%\n",
          "is_executing": false
        }
      }
    },
    {
      "cell_type": "code",
      "execution_count": 18,
      "outputs": [],
      "source": "my_ops \u003d [const, fill, my_zeros, my_ones, my_randn, my_randu]",
      "metadata": {
        "pycharm": {
          "metadata": false,
          "name": "#%%\n",
          "is_executing": false
        }
      }
    },
    {
      "cell_type": "code",
      "execution_count": 19,
      "outputs": [],
      "source": "sess \u003d tf.InteractiveSession()",
      "metadata": {
        "pycharm": {
          "metadata": false,
          "name": "#%%\n",
          "is_executing": false
        }
      }
    },
    {
      "cell_type": "code",
      "execution_count": 20,
      "outputs": [
        {
          "name": "stdout",
          "text": [
            "10\n\n\n[[10 10 10 10]\n [10 10 10 10]\n [10 10 10 10]\n [10 10 10 10]]\n\n\n[[0. 0. 0. 0.]\n [0. 0. 0. 0.]\n [0. 0. 0. 0.]\n [0. 0. 0. 0.]]\n\n\n[[1. 1. 1. 1.]\n [1. 1. 1. 1.]\n [1. 1. 1. 1.]\n [1. 1. 1. 1.]]\n\n\n[[ 0.33279127 -0.5423884   0.5506608  -0.9701637 ]\n [-0.3123613  -0.25145882 -2.0475686   1.0093728 ]\n [-1.1294396  -0.19668211 -0.92984635  0.6778249 ]\n [-0.64390427 -0.66911477  0.07338452 -0.49796817]]\n\n\n[[0.8222041  0.21274114 0.69727445 0.6909038 ]\n [0.54331744 0.33819973 0.8312702  0.74090064]\n [0.8752874  0.29717338 0.7601085  0.56946075]\n [0.19532788 0.3129617  0.9977462  0.09689283]]\n\n\n"
          ],
          "output_type": "stream"
        }
      ],
      "source": "for op in my_ops:\n    print(sess.run(op))\n    print(\u0027\\n\u0027)",
      "metadata": {
        "pycharm": {
          "metadata": false,
          "name": "#%%\n",
          "is_executing": false
        }
      }
    },
    {
      "cell_type": "code",
      "execution_count": 21,
      "outputs": [],
      "source": "my_randu \u003d tf.random_uniform((4,4), 0, 1)",
      "metadata": {
        "pycharm": {
          "metadata": false,
          "name": "#%%\n",
          "is_executing": false
        }
      }
    },
    {
      "cell_type": "code",
      "execution_count": 22,
      "outputs": [],
      "source": "my_var \u003d tf.Variable(initial_value\u003dmy_randu)",
      "metadata": {
        "pycharm": {
          "metadata": false,
          "name": "#%%\n",
          "is_executing": false
        }
      }
    },
    {
      "cell_type": "code",
      "execution_count": 23,
      "outputs": [],
      "source": "init \u003d tf.global_variables_initializer()",
      "metadata": {
        "pycharm": {
          "metadata": false,
          "name": "#%%\n",
          "is_executing": false
        }
      }
    },
    {
      "cell_type": "code",
      "execution_count": 24,
      "outputs": [],
      "source": "sess.run(init)",
      "metadata": {
        "pycharm": {
          "metadata": false,
          "name": "#%%\n",
          "is_executing": false
        }
      }
    },
    {
      "cell_type": "code",
      "execution_count": 25,
      "outputs": [
        {
          "data": {
            "text/plain": "array([[0.21974874, 0.6506587 , 0.68196285, 0.02590573],\n       [0.44212103, 0.7264303 , 0.9418349 , 0.30243218],\n       [0.98950183, 0.389871  , 0.06656229, 0.46340597],\n       [0.86599755, 0.14532387, 0.8984215 , 0.00439501]], dtype\u003dfloat32)"
          },
          "metadata": {},
          "output_type": "execute_result",
          "execution_count": 25
        }
      ],
      "source": "sess.run(my_var)",
      "metadata": {
        "pycharm": {
          "metadata": false,
          "name": "#%%\n",
          "is_executing": false
        }
      }
    },
    {
      "cell_type": "code",
      "execution_count": 26,
      "outputs": [],
      "source": "import tensorflow as tf\nimport numpy as np",
      "metadata": {
        "pycharm": {
          "metadata": false,
          "name": "#%%\n",
          "is_executing": false
        }
      }
    },
    {
      "cell_type": "code",
      "execution_count": null,
      "outputs": [],
      "source": "np.random.seed(101)\ntf.set_random_seed(101)",
      "metadata": {
        "pycharm": {
          "metadata": false,
          "name": "#%%\n",
          "is_executing": true
        }
      }
    },
    {
      "cell_type": "code",
      "execution_count": 28,
      "outputs": [
        {
          "data": {
            "text/plain": "array([[51.63986277, 57.06675869,  2.84742265, 17.15216562, 68.52769817],\n       [83.38968626, 30.69662197, 89.36130797, 72.15438618, 18.99389542],\n       [55.42275911, 35.2131954 , 18.18924027, 78.56017619, 96.54832224],\n       [23.23536618,  8.35614337, 60.35484223, 72.89927573, 27.62388285],\n       [68.53063288, 51.78674742,  4.84845374, 13.78692376, 18.69674261]])"
          },
          "metadata": {},
          "output_type": "execute_result",
          "execution_count": 28
        }
      ],
      "source": "rand_a \u003d np.random.uniform(0, 100, (5,5))\nrand_a",
      "metadata": {
        "pycharm": {
          "metadata": false,
          "name": "#%%\n",
          "is_executing": false
        }
      }
    },
    {
      "cell_type": "code",
      "execution_count": 29,
      "outputs": [
        {
          "data": {
            "text/plain": "array([[99.43179012],\n       [52.06653967],\n       [57.87895355],\n       [73.48190583],\n       [54.19617722]])"
          },
          "metadata": {},
          "output_type": "execute_result",
          "execution_count": 29
        }
      ],
      "source": "rand_b \u003d np.random.uniform(0, 100, (5,1))\nrand_b",
      "metadata": {
        "pycharm": {
          "metadata": false,
          "name": "#%%\n",
          "is_executing": false
        }
      }
    },
    {
      "cell_type": "code",
      "execution_count": 30,
      "outputs": [],
      "source": "a \u003d tf.placeholder(tf.float32)\nb \u003d tf.placeholder(tf.float32)",
      "metadata": {
        "pycharm": {
          "metadata": false,
          "name": "#%%\n",
          "is_executing": false
        }
      }
    },
    {
      "cell_type": "code",
      "execution_count": 31,
      "outputs": [],
      "source": "add_op \u003d a + b\nmul_op \u003d a * b",
      "metadata": {
        "pycharm": {
          "metadata": false,
          "name": "#%%\n",
          "is_executing": false
        }
      }
    },
    {
      "cell_type": "code",
      "execution_count": 39,
      "outputs": [
        {
          "name": "stdout",
          "text": [
            "[[151.07166  156.49855  102.27921  116.58396  167.95949 ]\n [135.45622   82.76316  141.42784  124.22093   71.06043 ]\n [113.30171   93.09215   76.06819  136.43912  154.42728 ]\n [ 96.71727   81.83804  133.83675  146.38118  101.10579 ]\n [122.72681  105.982925  59.044632  67.9831    72.89292 ]]\n\n[[5134.644   5674.25     283.12433 1705.4707  6813.8315 ]\n [4341.8125  1598.267   4652.734   3756.8293   988.94635]\n [3207.8113  2038.1029  1052.7742  4546.9805  5588.1157 ]\n [1707.379    614.02527 4434.989   5356.7773  2029.8555 ]\n [3714.0984  2806.6438   262.76764  747.19855 1013.292  ]]\n"
          ],
          "output_type": "stream"
        }
      ],
      "source": "with tf.Session()  as sess:\n    add_res \u003d sess.run(add_op, feed_dict\u003d{a:rand_a, b:rand_b})\n    print(add_res)\n    print(\u0027\u0027)\n    mult_res \u003d sess.run(mul_op, feed_dict\u003d{a:rand_a, b:rand_b})\n    print(mult_res)",
      "metadata": {
        "pycharm": {
          "metadata": false,
          "name": "#%%\n",
          "is_executing": false
        }
      }
    },
    {
      "cell_type": "code",
      "execution_count": 40,
      "outputs": [],
      "source": "n_features \u003d 10\nn_dense_neurons \u003d 3",
      "metadata": {
        "pycharm": {
          "metadata": false,
          "name": "#%%\n",
          "is_executing": false
        }
      }
    },
    {
      "cell_type": "code",
      "execution_count": 41,
      "outputs": [],
      "source": "x \u003d tf.placeholder(tf.float32, shape\u003d(None, n_features))",
      "metadata": {
        "pycharm": {
          "metadata": false,
          "name": "#%%\n",
          "is_executing": false
        }
      }
    },
    {
      "cell_type": "code",
      "execution_count": 42,
      "outputs": [],
      "source": "W \u003d tf.Variable(tf.random_normal([n_features, n_dense_neurons]))",
      "metadata": {
        "pycharm": {
          "metadata": false,
          "name": "#%%\n",
          "is_executing": false
        }
      }
    },
    {
      "cell_type": "code",
      "execution_count": 44,
      "outputs": [],
      "source": "b \u003d tf.Variable(tf.ones([n_dense_neurons]))",
      "metadata": {
        "pycharm": {
          "metadata": false,
          "name": "#%%\n",
          "is_executing": false
        }
      }
    },
    {
      "cell_type": "code",
      "execution_count": 45,
      "outputs": [],
      "source": "xW \u003d tf.matmul(x, W)",
      "metadata": {
        "pycharm": {
          "metadata": false,
          "name": "#%%\n",
          "is_executing": false
        }
      }
    },
    {
      "cell_type": "code",
      "execution_count": 46,
      "outputs": [],
      "source": "z \u003d tf.add(xW, b)",
      "metadata": {
        "pycharm": {
          "metadata": false,
          "name": "#%%\n",
          "is_executing": false
        }
      }
    },
    {
      "cell_type": "code",
      "execution_count": 47,
      "outputs": [],
      "source": "a \u003d tf.sigmoid(z)",
      "metadata": {
        "pycharm": {
          "metadata": false,
          "name": "#%%\n",
          "is_executing": false
        }
      }
    },
    {
      "cell_type": "code",
      "execution_count": 48,
      "outputs": [],
      "source": "init \u003d tf.global_variables_initializer()",
      "metadata": {
        "pycharm": {
          "metadata": false,
          "name": "#%%\n",
          "is_executing": false
        }
      }
    },
    {
      "cell_type": "code",
      "execution_count": 49,
      "outputs": [],
      "source": "with tf.Session() as sess:\n    sess.run(init)\n    layer_out \u003d sess.run(a, feed_dict\u003d{x:np.random.random([1, n_features])})",
      "metadata": {
        "pycharm": {
          "metadata": false,
          "name": "#%%\n",
          "is_executing": false
        }
      }
    },
    {
      "cell_type": "code",
      "execution_count": 51,
      "outputs": [
        {
          "name": "stdout",
          "text": [
            "[[0.93684685 0.24129108 0.50130177]]\n"
          ],
          "output_type": "stream"
        }
      ],
      "source": "print(layer_out)\n",
      "metadata": {
        "pycharm": {
          "metadata": false,
          "name": "#%%\n",
          "is_executing": false
        }
      }
    },
    {
      "cell_type": "markdown",
      "source": "#Simple Regression Example",
      "metadata": {
        "pycharm": {
          "metadata": false
        }
      }
    },
    {
      "cell_type": "code",
      "execution_count": 52,
      "outputs": [],
      "source": "x_data \u003d np.linspace(0,10,10) + np.random.uniform(-1.5,1.5, 10)\ny_label \u003d np.linspace(0,10,10) + np.random.uniform(-1.5,1.5, 10)",
      "metadata": {
        "pycharm": {
          "metadata": false,
          "name": "#%%\n",
          "is_executing": false
        }
      }
    },
    {
      "cell_type": "code",
      "execution_count": 53,
      "outputs": [
        {
          "data": {
            "text/plain": "array([-1.20856056, -0.08034641,  2.82674411,  4.50477294,  3.42312535,\n        4.88227319,  7.18414126,  6.77068715,  9.4930023 ,  9.96290567])"
          },
          "metadata": {},
          "output_type": "execute_result",
          "execution_count": 53
        }
      ],
      "source": "x_data",
      "metadata": {
        "pycharm": {
          "metadata": false,
          "name": "#%%\n",
          "is_executing": false
        }
      }
    },
    {
      "cell_type": "code",
      "execution_count": 54,
      "outputs": [
        {
          "data": {
            "text/plain": "array([0.5420333 , 1.17575569, 0.85241231, 2.50514314, 4.67005971,\n       4.41685654, 6.66701681, 6.69180648, 7.54731409, 9.03483077])"
          },
          "metadata": {},
          "output_type": "execute_result",
          "execution_count": 54
        }
      ],
      "source": "y_label",
      "metadata": {
        "pycharm": {
          "metadata": false,
          "name": "#%%\n",
          "is_executing": false
        }
      }
    },
    {
      "cell_type": "code",
      "execution_count": 55,
      "outputs": [],
      "source": "import matplotlib.pyplot as plt",
      "metadata": {
        "pycharm": {
          "metadata": false,
          "name": "#%%\n",
          "is_executing": false
        }
      }
    },
    {
      "cell_type": "code",
      "execution_count": 56,
      "outputs": [
        {
          "data": {
            "text/plain": "\u003cmatplotlib.figure.Figure at 0x1fe7948eef0\u003e",
            "image/png": "[encoded data removed]"
          },
          "metadata": {},
          "output_type": "display_data"
        }
      ],
      "source": "plt.plot(x_data, y_label, \u0027*\u0027)\nplt.show()",
      "metadata": {
        "pycharm": {
          "metadata": false,
          "name": "#%%\n",
          "is_executing": false
        }
      }
    },
    {
      "cell_type": "code",
      "execution_count": 57,
      "outputs": [],
      "source": "m \u003d tf.Variable(0.44)\nb \u003d tf.Variable(0.87)",
      "metadata": {
        "pycharm": {
          "metadata": false,
          "name": "#%%\n",
          "is_executing": false
        }
      }
    },
    {
      "cell_type": "code",
      "execution_count": 63,
      "outputs": [],
      "source": "error \u003d 0\nfor x, y in zip(x_data, y_label):\n    y_hat \u003d m*x + b\n    error +\u003d (y-y_hat)**2",
      "metadata": {
        "pycharm": {
          "metadata": false,
          "name": "#%%\n",
          "is_executing": false
        }
      }
    },
    {
      "cell_type": "code",
      "execution_count": 64,
      "outputs": [],
      "source": "optimizer \u003d tf.train.GradientDescentOptimizer(learning_rate\u003d0.001)\ntrain \u003d optimizer.minimize(error)",
      "metadata": {
        "pycharm": {
          "metadata": false,
          "name": "#%%\n",
          "is_executing": false
        }
      }
    },
    {
      "cell_type": "code",
      "execution_count": 65,
      "outputs": [],
      "source": "init \u003d tf.global_variables_initializer()",
      "metadata": {
        "pycharm": {
          "metadata": false,
          "name": "#%%\n",
          "is_executing": false
        }
      }
    },
    {
      "cell_type": "code",
      "execution_count": 71,
      "outputs": [],
      "source": "with tf.Session() as sess:\n    sess.run(init)\n    \n    training_step \u003d 10000\n    for i in range(training_step):\n        sess.run(train)\n    \n    final_slope, final_intercept \u003d sess.run([m, b])",
      "metadata": {
        "pycharm": {
          "metadata": false,
          "name": "#%%\n",
          "is_executing": false
        }
      }
    },
    {
      "cell_type": "code",
      "execution_count": 72,
      "outputs": [
        {
          "data": {
            "text/plain": "\u003cmatplotlib.figure.Figure at 0x1fe7d4514e0\u003e",
            "image/png": "[encoded data removed]"
          },
          "metadata": {},
          "output_type": "display_data"
        }
      ],
      "source": "x_test \u003d np.linspace(-1, 11, 10)\n\ny_pred_plot \u003d final_slope*x_test + final_intercept\n\nplt.plot(x_test, y_pred_plot, \u0027r\u0027)\nplt.plot(x_data, y_label, \u0027*\u0027)\nplt.show()",
      "metadata": {
        "pycharm": {
          "metadata": false,
          "name": "#%%\n",
          "is_executing": false
        }
      }
    },
    {
      "cell_type": "code",
      "execution_count": null,
      "outputs": [],
      "source": "\n",
      "metadata": {
        "pycharm": {
          "metadata": false,
          "name": "#%%\n"
        }
      }
    }
  ],
  "metadata": {
    "language_info": {
      "codemirror_mode": {
        "name": "ipython",
        "version": 2
      },
      "file_extension": ".py",
      "mimetype": "text/x-python",
      "name": "python",
      "nbconvert_exporter": "python",
      "pygments_lexer": "ipython2",
      "version": "2.7.6"
    },
    "kernelspec": {
      "name": "python3",
      "language": "python",
      "display_name": "Python 3"
    }
  },
  "nbformat": 4,
  "nbformat_minor": 0
}